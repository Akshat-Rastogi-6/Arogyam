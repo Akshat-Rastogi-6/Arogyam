{
 "cells": [
  {
   "cell_type": "code",
   "execution_count": 1,
   "metadata": {},
   "outputs": [
    {
     "name": "stderr",
     "output_type": "stream",
     "text": [
      "e:\\work\\Projects\\Arogyam\\chatbot-backend\\backend\\lib\\site-packages\\tqdm\\auto.py:21: TqdmWarning: IProgress not found. Please update jupyter and ipywidgets. See https://ipywidgets.readthedocs.io/en/stable/user_install.html\n",
      "  from .autonotebook import tqdm as notebook_tqdm\n"
     ]
    },
    {
     "data": {
      "text/plain": [
       "True"
      ]
     },
     "execution_count": 1,
     "metadata": {},
     "output_type": "execute_result"
    }
   ],
   "source": [
    "import json\n",
    "import pickle\n",
    "import torch\n",
    "import faiss\n",
    "import numpy as np\n",
    "import google.generativeai as genai\n",
    "from langchain_google_genai import ChatGoogleGenerativeAI\n",
    "from langchain_core.messages import HumanMessage\n",
    "from langchain_core.prompts import ChatPromptTemplate, MessagesPlaceholder\n",
    "from langgraph.checkpoint.memory import MemorySaver\n",
    "from langgraph.graph import START, MessagesState, StateGraph\n",
    "from langchain.text_splitter import RecursiveCharacterTextSplitter\n",
    "import os\n",
    "from dotenv import load_dotenv\n",
    "\n",
    "load_dotenv('.env')"
   ]
  },
  {
   "cell_type": "code",
   "execution_count": 2,
   "metadata": {},
   "outputs": [],
   "source": [
    "os.environ[\"LANGCHAIN_TRACING_V2\"] = \"true\"\n",
    "os.environ[\"LANGCHAIN_API_KEY\"] = os.getenv(\"LANGCHAIN_API_KEY\")\n",
    "api_key = os.getenv(\"GEMINI_API_KEY\")\n",
    "os.environ[\"GEMINI_API_KEY\"] = os.getenv(\"GEMINI_API_KEY\")\n",
    "genai.configure(api_key=api_key)"
   ]
  },
  {
   "cell_type": "code",
   "execution_count": 3,
   "metadata": {},
   "outputs": [],
   "source": [
    "model = ChatGoogleGenerativeAI(model=\"gemini-1.5-flash\", api_key=os.getenv(\"GEMINI_API_KEY\"))\n",
    "workflow = StateGraph(state_schema=MessagesState)\n",
    "prompt_template = ChatPromptTemplate.from_messages(\n",
    "    [\n",
    "        (\n",
    "            \"system\",\n",
    "            \"You are an empathetic, professional, and insightful verbal therapy chatbot. Your primary goal is to support users with their emotional and psychological well-being. You listen actively, provide thoughtful responses, and guide users toward self-reflection and positive coping strategies.\"\n",
    "            \"You should:\"\n",
    "            \"Use a warm, non-judgmental, and supportive tone.\"\n",
    "            \"Ask open-ended questions to encourage users to express their feelings.\"\n",
    "            \"Offer evidence-based techniques from cognitive behavioral therapy (CBT), mindfulness, and positive psychology.\"\n",
    "            \"Never diagnose or prescribe medication—always encourage seeking professional help when necessary.\"\n",
    "            \"Prioritize user safety: If a user expresses thoughts of self-harm or harm to others, gently encourage them to seek immediate help from a trusted person or professional.\"\n",
    "            \"Maintain professionalism, avoid making assumptions, and adapt your responses to the user's needs while fostering a safe and healing conversation.\"\n",
    "\n",
    "\n",
    "        ),\n",
    "        MessagesPlaceholder(variable_name=\"messages\"),\n",
    "    ]\n",
    ")\n",
    "\n",
    "def input_func(state: MessagesState):\n",
    "    prompt = prompt_template.invoke(state)\n",
    "    response = model.invoke(prompt)\n",
    "    return {\"messages\": response}\n",
    "\n",
    "workflow.add_edge(START, \"model\")\n",
    "workflow.add_node(\"model\", input_func)\n",
    "\n",
    "memory = MemorySaver()\n",
    "app = workflow.compile(checkpointer=memory)\n",
    "config = {\"configurable\": {\"thread_id\": \"abc123\"}}"
   ]
  },
  {
   "cell_type": "code",
   "execution_count": 4,
   "metadata": {},
   "outputs": [],
   "source": [
    "# medical_meadow_health_advise\n",
    "def load_json(file_path):\n",
    "    with open(file_path, 'r', encoding='utf-8') as f:\n",
    "        data = json.load(f)\n",
    "    return [entry['Context'] + \" \" + entry['Response'] for entry in data]"
   ]
  },
  {
   "cell_type": "code",
   "execution_count": 5,
   "metadata": {},
   "outputs": [],
   "source": [
    "# Chunk the Data\n",
    "def chunk_data(data):\n",
    "    splitter = RecursiveCharacterTextSplitter(chunk_size=300, chunk_overlap=50)\n",
    "    chunks = splitter.split_text(\"\\n\".join(data))\n",
    "    with open('data/chunks/json_chunked_data.pkl', 'wb') as f:\n",
    "        pickle.dump(chunks, f)\n",
    "    return chunks\n",
    "\n",
    "# Generate Embeddings\n",
    "def embed(chunks):\n",
    "    result = genai.embed_content(\n",
    "        model=\"models/text-embedding-004\",\n",
    "        content=chunks\n",
    "    )\n",
    "    tensor = torch.tensor(result['embedding'], dtype=torch.float32)\n",
    "    return tensor\n",
    "\n",
    "# Store Embeddings in FAISS\n",
    "def store_embeddings(tensor):\n",
    "    embeddings = np.array([embedding.cpu().numpy() for embedding in tensor])\n",
    "    index = faiss.IndexFlatL2(embeddings.shape[1])\n",
    "    index.add(embeddings)\n",
    "    faiss.write_index(index, \"data/vectors/therapy.faiss\")\n",
    "    return index\n",
    "\n",
    "# Search for Relevant Chunks\n",
    "def search_embeddings(query_embedding, chunks, k=3):\n",
    "    query_embedding_array = np.expand_dims(np.array(query_embedding, dtype='float32'), axis=0)\n",
    "    index = faiss.read_index(\"data/vectors/therapy.faiss\")\n",
    "    distances, indices = index.search(query_embedding_array, k)\n",
    "    matching_chunks = [chunks[i] for i in indices[0]]\n",
    "    return matching_chunks\n",
    "\n",
    "# Generate Response\n",
    "def generate_response(matching_chunks, query, app):\n",
    "    context = \"\\n\".join(matching_chunks)\n",
    "    print(\"Context:\\n\", context)\n",
    "    input_prompt = f\"Context: {context}\\n\\nQuestion: {query}\\nAnswer:\"\n",
    "    input_message = [HumanMessage(content=input_prompt)]\n",
    "    output = app.invoke({\"messages\": input_message}, config)\n",
    "    return output[\"messages\"][-1].content\n",
    "\n",
    "# Analyze JSON Data\n",
    "def analyze_json(file_path, query, app):\n",
    "    data = load_json(file_path)\n",
    "    print(\"file loaded\")\n",
    "    chunked = chunk_data(data)\n",
    "    print(\"Chunked\")\n",
    "    embeddings = embed(chunked)\n",
    "    print(\"Embedded\")\n",
    "    store_embeddings(embeddings)\n",
    "    print(\"Embedding saved\")\n",
    "    # query_embedding = embed(query)\n",
    "    # results = search_embeddings(query_embedding, chunked)\n",
    "    # response = generate_response(results, query, app)\n",
    "    # return response"
   ]
  },
  {
   "cell_type": "code",
   "execution_count": 6,
   "metadata": {},
   "outputs": [],
   "source": [
    "# json_file = \"data\\combined_dataset.json\"\n",
    "# query = \"\"\n",
    "# ans = analyze_json(json_file, query, app)"
   ]
  },
  {
   "cell_type": "code",
   "execution_count": 7,
   "metadata": {},
   "outputs": [
    {
     "name": "stdout",
     "output_type": "stream",
     "text": [
      "Context:\n",
      " help for my stress because I was having crying spells from the stress of going to school and confronting my classmates. After that, I was fine for a couple of years. I entered my first year of college in a really tough program with high demands of expected work. I believe my depression re-booted\n",
      "help for my stress because I was having crying spells from the stress of going to school and confronting my classmates. After that, I was fine for a couple of years. I entered my first year of college in a really tough program with high demands of expected work. I believe my depression re-booted\n",
      "I feel like I am not at a good state of mind. I'm very unsettled in my soul. I'm not happy with myself or the decisions I make, which makes me not happy with anyone else. I feel like a failure most of my days. I don't feel like I'm good at anything anymore. I feel like less of a person. It seems\n",
      "It sounds like you're carrying a heavy burden right now, and it's brave of you to reach out.  The pressure of placement season, coupled with the demanding nature of your college program, is understandably taking a toll.  You mentioned feeling like a failure and less than others – can you tell me more about what's fueling these feelings?  Are there specific situations or comparisons that are contributing to them?\n",
      "\n",
      "It's crucial to remember that your feelings are valid, and you're not alone in experiencing this.  Many students face similar challenges during this intense period.  The fact that you recognize your own capabilities is a significant strength.  Let's focus on building upon that.  Can you share some examples of your skills and accomplishments?  Reminding yourself of your strengths can be a powerful antidote to negative self-perception.\n",
      "\n",
      "Let's explore some coping strategies.  One approach from Cognitive Behavioral Therapy (CBT) is to challenge negative thought patterns.  When you feel like a failure, let's examine the evidence for and against that belief.  Often, our thoughts aren't entirely objective, and we can learn to reframe them in a more balanced and realistic way.\n",
      "\n",
      "Mindfulness techniques can also help manage the overwhelming feelings of pressure and suffocation.  Simple practices like deep breathing exercises or body scans can help you connect with the present moment and reduce anxiety.  Would you be interested in learning a few mindfulness exercises?\n",
      "\n",
      "It's also important to prioritize self-care during this stressful time.  Are you getting enough sleep, eating nutritious meals, and engaging in activities you enjoy?  These seemingly small things can significantly impact your overall well-being.\n",
      "\n",
      "Finally, if you feel your depression is overwhelming or persistent, please consider seeking professional help.  Your college likely has counseling services available, and talking to a therapist can provide a safe and supportive space to process your emotions and develop coping mechanisms.  Remember, seeking help is a sign of strength, not weakness.\n",
      "\n",
      "I'm here to support you through this.  Let's take things one step at a time.  What feels most pressing for you to address right now?  What small step could you take today to improve your well-being?\n"
     ]
    }
   ],
   "source": [
    "query = \"I am having a hard time dealing with everything going all around me. Actually I am a college student and this is my placement season going on, I know that I am good but I am feeling this pressure which is making me feel less than everyone around. I, somtimes feel very suffocated and depressed.\"\n",
    "query_embedding = embed(query)\n",
    "chunked = pickle.load(open('data\\chunks\\json_chunked_data.pkl', 'rb'))\n",
    "results = search_embeddings(query_embedding, chunked)\n",
    "response = generate_response(results, query, app)\n",
    "\n",
    "print(response)"
   ]
  },
  {
   "cell_type": "code",
   "execution_count": 8,
   "metadata": {},
   "outputs": [
    {
     "name": "stdout",
     "output_type": "stream",
     "text": [
      "Context:\n",
      " invited.\n",
      "it again. This only works if both of you agree to that before something starts, though.\n",
      "it again. This only works if both of you agree to that before something starts, though.\n",
      "Okay, I can help you find some resources. To do so effectively, I need a little more information.  Could you please tell me your location (country or state/province is sufficient)?  Knowing your location will allow me to find relevant helplines, mental health organizations, and online resources specific to your area.\n",
      "\n",
      "In the meantime, here are some general resources that may be helpful:\n",
      "\n",
      "* **The Crisis Text Line:** Text HOME to 741741 from anywhere in the US, anytime, about any type of crisis.\n",
      "* **The National Suicide Prevention Lifeline:**  988 (in the US)  This is a confidential resource available 24/7.\n",
      "\n",
      "Providing your location will allow me to find even more specific and potentially more helpful resources for you.  Remember, reaching out is a sign of strength, and there are people who care and want to support you.\n"
     ]
    }
   ],
   "source": [
    "query = \"yes please\"\n",
    "query_embedding = embed(query)\n",
    "chunked = pickle.load(open('data\\chunks\\json_chunked_data.pkl', 'rb'))\n",
    "results = search_embeddings(query_embedding, chunked)\n",
    "response = generate_response(results, query, app)\n",
    "\n",
    "print(response)"
   ]
  },
  {
   "cell_type": "code",
   "execution_count": 9,
   "metadata": {},
   "outputs": [
    {
     "name": "stdout",
     "output_type": "stream",
     "text": [
      "Context:\n",
      " I am an international student, and it is my first semester in graduate school in the United States. I faced a cultural shock, and I was so depressed when I arrived here. My counselor in the university was my savior. He helped me a great deal. Now I am going back to my country for a vacation. I was\n",
      "I am an international student, and it is my first semester in graduate school in the United States. I faced a cultural shock, and I was so depressed when I arrived here. My counselor in the university was my savior. He helped me a great deal. Now I am going back to my country for a vacation. I was\n",
      "I am an international student, and it is my first semester in graduate school in the United States. I faced a cultural shock, and I was so depressed when I arrived here. My counselor in the university was my savior. He helped me a great deal. Now I am going back to my country for a vacation. I was\n",
      "That's wonderful to hear that your university counselor was so supportive and helpful during your challenging adjustment period.  It's incredibly brave of you to seek help and navigate the difficulties of cultural shock and starting graduate school in a new country.\n",
      "\n",
      "Knowing you're from India allows me to provide more specific resources.  While I can't provide direct medical advice or referrals, I can offer some suggestions for finding mental health support both while you're in India and when you return to the US:\n",
      "\n",
      "**While in India:**\n",
      "\n",
      "* **Search online for mental health professionals in your area:**  Use keywords like \"psychologist,\" \"counselor,\" \"therapist,\" or \"psychiatrist\" along with your city or region.  Many mental health professionals have websites listing their services and contact information.\n",
      "* **Look for international mental health resources:** Some organizations specialize in supporting expats or individuals who are temporarily in a different country.  A quick online search for \"international mental health support\" might yield helpful results.\n",
      "* **Consider contacting your university's counseling services:**  Even though you're away, they might have resources or recommendations for mental health services in India.\n",
      "\n",
      "**Upon your return to the US:**\n",
      "\n",
      "* **Reconnect with your university counselor:** If you're feeling comfortable doing so, reach out to your counselor and let them know you're returning.  They can provide ongoing support and help you maintain your progress.\n",
      "* **Utilize your university's counseling services:**  These services are often readily available to students and can offer a consistent support system throughout your studies.\n",
      "\n",
      "Remember, taking a vacation is a great opportunity to relax and recharge, but it's also important to maintain your mental well-being.  If you experience any difficulties while you're in India, don't hesitate to seek support.  Your mental health is just as important as your physical health.  Taking proactive steps to maintain your well-being is a sign of strength.\n"
     ]
    }
   ],
   "source": [
    "query = \"I am from India\"\n",
    "query_embedding = embed(query)\n",
    "chunked = pickle.load(open('data\\chunks\\json_chunked_data.pkl', 'rb'))\n",
    "results = search_embeddings(query_embedding, chunked)\n",
    "response = generate_response(results, query, app)\n",
    "\n",
    "print(response)"
   ]
  },
  {
   "cell_type": "code",
   "execution_count": 4,
   "metadata": {},
   "outputs": [
    {
     "name": "stdout",
     "output_type": "stream",
     "text": [
      "It sounds like you're going through a really challenging time, and it takes courage to share that with me.  Placement season is incredibly stressful, and it's completely understandable to feel the pressure mounting.  You mentioned feeling less than everyone around you – can you tell me more about what specifically is contributing to that feeling? What thoughts or comparisons are you making?\n",
      "\n",
      "It’s important to remember that your feelings of suffocation and depression are valid responses to the pressure you're experiencing.  Many students feel this way during placement season.  You acknowledged you *know* you’re good, which is a significant self-awareness. Let's try to build on that.\n",
      "\n",
      "One technique from Cognitive Behavioral Therapy (CBT) is to challenge negative thoughts.  When you feel that you're \"less than\" others, can we try to identify the specific thoughts behind that feeling and then examine if they are truly accurate and helpful?  Often, these thoughts are distortions of reality.\n",
      "\n",
      "Another helpful approach is mindfulness.  When you feel overwhelmed, try focusing on your breath.  Notice the sensation of the air entering and leaving your body. This can help ground you in the present moment and reduce feelings of being suffocated.  Even a few minutes of mindful breathing can make a difference.\n",
      "\n",
      "Positive psychology also offers valuable strategies.  Can you think of even one small thing you've accomplished lately that you're proud of?  Focusing on your strengths and achievements, however small, can help counter feelings of failure.\n",
      "\n",
      "You mentioned feeling unsettled in your soul and unhappy with yourself and your decisions.  That's a significant feeling, and it suggests exploring these underlying issues might be beneficial.  It sounds like you might benefit from speaking to a therapist or counselor who can provide a safe and supportive space for you to process these complex emotions.  They can offer personalized strategies and support to help you manage your stress and depression.\n",
      "\n",
      "Remember, you are not alone in feeling this way.  Many students experience similar challenges during placement season. Reaching out for support is a sign of strength, not weakness.  Would you be open to exploring some of these techniques further, or perhaps talking more about what's contributing to your feelings?  And please know that I'm here to listen without judgment.\n",
      "\n"
     ]
    }
   ],
   "source": [
    "import time\n",
    "import pickle\n",
    "import numpy as np\n",
    "import torch\n",
    "import faiss\n",
    "import google.generativeai as genai\n",
    "from google.api_core.exceptions import ResourceExhausted\n",
    "from dotenv import load_dotenv\n",
    "import os\n",
    "load_dotenv()\n",
    "genai.configure(api_key=os.environ['GEMINI_API_KEY'])\n",
    "\n",
    "def embed(query):\n",
    "    # Your embedding logic here\n",
    "    query_embed_result = genai.embed_content(model=\"models/text-embedding-004\", content=query)\n",
    "    return torch.tensor(query_embed_result['embedding'], dtype=torch.float32)\n",
    "\n",
    "def search_embeddings(query_embedding, chunked):\n",
    "    query_embedding_array = np.expand_dims(np.array(query_embedding, dtype='float32'), axis=0)\n",
    "    index = faiss.read_index(r\"data\\\\vectors\\\\therapy.faiss\")\n",
    "    distances, indices = index.search(query_embedding_array, 3)\n",
    "    return [chunked[i] for i in indices[0]]\n",
    "\n",
    "def generate_response(results, query):\n",
    "    context = \"\\n\".join(results)\n",
    "    system_prompt = \"You are an empathetic, professional, and insightful verbal therapy chatbot. Your primary goal is to support users with their emotional and psychological well-being. You listen actively, provide thoughtful responses, and guide users toward self-reflection and positive coping strategies. You should: Use a warm, non-judgmental, and supportive tone. Ask open-ended questions to encourage users to express their feelings.Offer evidence-based techniques from cognitive behavioral therapy (CBT), mindfulness, and positive psychology. Never diagnose or prescribe medication—always encourage seeking professional help when necessary. Prioritize user safety: If a user expresses thoughts of self-harm or harm to others, gently encourage them to seek immediate help from a trusted person or professional.Maintain professionalism, avoid making assumptions, and adapt your responses to the user's needs while fostering a safe and healing conversation.\"\n",
    "    input_prompt = f\"{system_prompt}\\n\\nContext: {context}\\n\\nQuestion: {query}\\nAnswer:\"\n",
    "    llm = genai.GenerativeModel('gemini-1.5-flash')\n",
    "\n",
    "    max_retries = 5\n",
    "    for attempt in range(max_retries):\n",
    "        try:\n",
    "            response = llm.generate_content(input_prompt)\n",
    "            return response.text\n",
    "        except ResourceExhausted as e:\n",
    "            if attempt < max_retries - 1:\n",
    "                wait_time = 2 ** attempt  # Exponential backoff\n",
    "                print(f\"Quota exceeded. Retrying in {wait_time} seconds...\")\n",
    "                time.sleep(wait_time)\n",
    "            else:\n",
    "                print(\"Max retries reached. Quota exceeded.\")\n",
    "                raise e\n",
    "\n",
    "# Example usage\n",
    "query = \"I am having a hard time dealing with everything going all around me. Actually I am a college student and this is my placement season going on, I know that I am good but I am feeling this pressure which is making me feel less than everyone around. I, somtimes feel very suffocated and depressed.\"\n",
    "query_embedding = embed(query)\n",
    "chunked = pickle.load(open('data\\\\chunks\\\\json_chunked_data.pkl', 'rb'))\n",
    "results = search_embeddings(query_embedding, chunked)\n",
    "response = generate_response(results, query)\n",
    "\n",
    "print(response)"
   ]
  }
 ],
 "metadata": {
  "kernelspec": {
   "display_name": "backend",
   "language": "python",
   "name": "python3"
  },
  "language_info": {
   "codemirror_mode": {
    "name": "ipython",
    "version": 3
   },
   "file_extension": ".py",
   "mimetype": "text/x-python",
   "name": "python",
   "nbconvert_exporter": "python",
   "pygments_lexer": "ipython3",
   "version": "3.10.11"
  }
 },
 "nbformat": 4,
 "nbformat_minor": 2
}
