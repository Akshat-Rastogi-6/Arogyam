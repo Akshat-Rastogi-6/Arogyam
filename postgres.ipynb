{
 "cells": [
  {
   "cell_type": "code",
   "execution_count": 1,
   "metadata": {},
   "outputs": [],
   "source": [
    "import psycopg2\n",
    "from psycopg2 import sql\n",
    "\n",
    "# Database connection parameters\n",
    "db_params = {\n",
    "    'dbname': 'neondb',\n",
    "    'user': 'neondb_owner',\n",
    "    'password': 'npg_n8KLjuB3DXNl',\n",
    "    'host': 'ep-shiny-voice-a1j6gu7w-pooler.ap-southeast-1.aws.neon.tech',\n",
    "    'sslmode': 'require'\n",
    "}"
   ]
  },
  {
   "cell_type": "code",
   "execution_count": 2,
   "metadata": {},
   "outputs": [
    {
     "name": "stdout",
     "output_type": "stream",
     "text": [
      "Table 'sample_table' created successfully.\n",
      "Sample data inserted successfully.\n"
     ]
    }
   ],
   "source": [
    "\n",
    "try:\n",
    "    # Establish a connection to the PostgreSQL database\n",
    "    with psycopg2.connect(**db_params) as conn:\n",
    "        # Create a cursor object using the connection\n",
    "        with conn.cursor() as cursor:\n",
    "            # Create a sample table named 'sample_table'\n",
    "            create_table_query = sql.SQL(\"\"\"\n",
    "                CREATE TABLE IF NOT EXISTS sample_table (\n",
    "                    id SERIAL PRIMARY KEY,\n",
    "                    name VARCHAR(100),\n",
    "                    age INTEGER\n",
    "                );\n",
    "            \"\"\")\n",
    "            cursor.execute(create_table_query)\n",
    "            print(\"Table 'sample_table' created successfully.\")\n",
    "\n",
    "            # Insert sample data into the table\n",
    "            insert_data_query = sql.SQL(\"\"\"\n",
    "                INSERT INTO sample_table (name, age) VALUES\n",
    "                (%s, %s),\n",
    "                (%s, %s),\n",
    "                (%s, %s);\n",
    "            \"\"\")\n",
    "            data_to_insert = ('Alice', 30, 'Bob', 25, 'Charlie', 35)\n",
    "            cursor.execute(insert_data_query, data_to_insert)\n",
    "            print(\"Sample data inserted successfully.\")\n",
    "\n",
    "            # Commit the transaction\n",
    "            conn.commit()\n",
    "\n",
    "except (Exception, psycopg2.DatabaseError) as error:\n",
    "    print(f\"Error: {error}\")\n"
   ]
  }
 ],
 "metadata": {
  "kernelspec": {
   "display_name": "Python 3",
   "language": "python",
   "name": "python3"
  },
  "language_info": {
   "codemirror_mode": {
    "name": "ipython",
    "version": 3
   },
   "file_extension": ".py",
   "mimetype": "text/x-python",
   "name": "python",
   "nbconvert_exporter": "python",
   "pygments_lexer": "ipython3",
   "version": "3.10.11"
  }
 },
 "nbformat": 4,
 "nbformat_minor": 2
}
